{
 "cells": [
  {
   "cell_type": "code",
   "execution_count": null,
   "id": "d13210d8-2884-4f1a-8979-6e227e3a7bdd",
   "metadata": {},
   "outputs": [],
   "source": [
    "# Comes to append(),insert(),delete() ----- axis=1(column),axis=0(rows)\n",
    "# numpy.append(ndarrayobj,Value) use the function add a value for 1-D at the end of the list.\n",
    "# numpy.append(ndarrayobj,[Value1,value2,....] or (Value1,value2,....)) use the function add multiple values for 1-D at the end of the list."
   ]
  },
  {
   "cell_type": "code",
   "execution_count": 6,
   "id": "b3c47122-f669-4dee-8a4c-8ca48aa44ec8",
   "metadata": {},
   "outputs": [
    {
     "name": "stdout",
     "output_type": "stream",
     "text": [
      "Before appending the value\n",
      "[ 10  20  50  70 100] <class 'numpy.ndarray'>\n"
     ]
    }
   ],
   "source": [
    "# numpy.insert(ndarrayobj,Value) use the function add a value for 1-D at the end of the list.\n",
    "import numpy as np\n",
    "a=np.array([10,20,50,70,100])\n",
    "print(\"Before appending the value\")\n",
    "print(a,type(a))"
   ]
  },
  {
   "cell_type": "code",
   "execution_count": 7,
   "id": "83eb092a-3555-4a29-824c-9cc40a4c04ca",
   "metadata": {},
   "outputs": [
    {
     "name": "stdout",
     "output_type": "stream",
     "text": [
      "after appending the value\n",
      "[ 10  20  50  70 100 101] <class 'numpy.ndarray'>\n"
     ]
    }
   ],
   "source": [
    "print(\"after appending the value\")\n",
    "a=np.append(a,101)\n",
    "print(a,type(a))"
   ]
  },
  {
   "cell_type": "code",
   "execution_count": 8,
   "id": "643f7ac3-8b6d-4072-8931-a80a89654cb3",
   "metadata": {},
   "outputs": [
    {
     "name": "stdout",
     "output_type": "stream",
     "text": [
      "after appending the value\n",
      "[ 10  20  50  70 100 101 105]\n"
     ]
    }
   ],
   "source": [
    "print(\"after appending the value\")\n",
    "print(np.append(a,105))"
   ]
  },
  {
   "cell_type": "code",
   "execution_count": 10,
   "id": "5d1cf2c1-97b4-4afb-923a-aa31a702215e",
   "metadata": {},
   "outputs": [
    {
     "name": "stdout",
     "output_type": "stream",
     "text": [
      "Before appending the value\n",
      "[ 10  20  50  70 100] <class 'numpy.ndarray'>\n",
      "after appending the value\n",
      "[ 10  20  50  70 100 110 120 130] <class 'numpy.ndarray'>\n"
     ]
    }
   ],
   "source": [
    "# numpy.insert(ndarrayobj,[Value1,value2,....]) use the function add a values at the end of the list.\n",
    "import numpy as np\n",
    "a=np.array([10,20,50,70,100])\n",
    "print(\"Before appending the value\")\n",
    "print(a,type(a))\n",
    "a=np.append(a,[110,120,130])\n",
    "print(\"after appending the value\")\n",
    "print(a,type(a))"
   ]
  },
  {
   "cell_type": "code",
   "execution_count": 12,
   "id": "24fcf797-a45c-4f5f-a4fd-379107ca944a",
   "metadata": {},
   "outputs": [
    {
     "name": "stdout",
     "output_type": "stream",
     "text": [
      "Before appending the value\n",
      "[ 10  20  50  70 100] <class 'numpy.ndarray'>\n",
      "after appending the value\n",
      "[ 10  20  50  70 100 110 120 130] <class 'numpy.ndarray'>\n"
     ]
    }
   ],
   "source": [
    "# numpy.insert(ndarrayobj,[Value1,value2,....] or (Value1,value2,....)) use the function add a values at the end of the list.\n",
    "import numpy as np\n",
    "a=np.array([10,20,50,70,100])\n",
    "print(\"Before appending the value\")\n",
    "print(a,type(a))\n",
    "a=np.append(a,(110,120,130))\n",
    "print(\"after appending the value\")\n",
    "print(a,type(a))"
   ]
  },
  {
   "cell_type": "code",
   "execution_count": 13,
   "id": "62ef14a3-d32f-4036-ba8e-3be7721e7dd8",
   "metadata": {},
   "outputs": [
    {
     "name": "stdout",
     "output_type": "stream",
     "text": [
      "Before appending the value\n",
      "[[ 10  20  50]\n",
      " [ 70 100 110]] <class 'numpy.ndarray'>\n"
     ]
    }
   ],
   "source": [
    "# numpy.insert(ndarrayobj,Value,axis=0 or 1) use the function add a value for 2-D at the end of the list.\n",
    "import numpy as np\n",
    "a=np.array([10,20,50,70,100,110]).reshape(2,3)\n",
    "print(\"Before appending the value\")\n",
    "print(a,type(a))"
   ]
  },
  {
   "cell_type": "code",
   "execution_count": 24,
   "id": "874d04fb-34f4-4b8a-ab45-d35f6b9c9831",
   "metadata": {},
   "outputs": [
    {
     "name": "stdout",
     "output_type": "stream",
     "text": [
      "[[ 10  20  50  11]\n",
      " [ 70 100 110  22]]\n"
     ]
    }
   ],
   "source": [
    "a=np.append(a,[[11],[22]],axis=1) # Column Wise appending\n",
    "print(a)"
   ]
  },
  {
   "cell_type": "code",
   "execution_count": 25,
   "id": "9d33d4b2-a338-4ed4-9ae2-d27a5288f7ce",
   "metadata": {},
   "outputs": [
    {
     "name": "stdout",
     "output_type": "stream",
     "text": [
      "[[ 10  20  50  11  55]\n",
      " [ 70 100 110  22   5]]\n"
     ]
    }
   ],
   "source": [
    "a=np.append(a,[[55],[5]],axis=1) # Column Wise appending\n",
    "print(a)"
   ]
  },
  {
   "cell_type": "code",
   "execution_count": 28,
   "id": "f187c152-8a4e-4983-b36f-3dff1067d0d3",
   "metadata": {},
   "outputs": [
    {
     "name": "stdout",
     "output_type": "stream",
     "text": [
      "[[ 10  20  50  11  55]\n",
      " [ 70 100 110  22   5]\n",
      " [ 55   5  15  25  16]]\n"
     ]
    }
   ],
   "source": [
    "a=np.append(a,[[55,5,15,25,16]],axis=0) # row Wise appending\n",
    "print(a)"
   ]
  },
  {
   "cell_type": "code",
   "execution_count": 29,
   "id": "1bf15dc8-2a7f-4745-9bea-21668a2f633c",
   "metadata": {},
   "outputs": [
    {
     "name": "stdout",
     "output_type": "stream",
     "text": [
      "[[ 10  20  50  11  55]\n",
      " [ 70 100 110  22   5]\n",
      " [ 55   5  15  25  16]\n",
      " [  1   2   3   4   5]]\n"
     ]
    }
   ],
   "source": [
    "a=np.append(a,[[1,2,3,4,5]],axis=0) # row Wise appending\n",
    "print(a)"
   ]
  },
  {
   "cell_type": "code",
   "execution_count": null,
   "id": "2b5a006d-a904-4803-9a67-5b7a64a4cba0",
   "metadata": {},
   "outputs": [],
   "source": [
    "#Comes to append(),insert(),delete() ----- axis=1(column),axis=0(rows)\n",
    "# numpy.insert(ndarrayobj,index,value) use the function add a value for 1-D at the end of the list.\n",
    "# numpy.insert(ndarrayobj,index,[Value1,value2,....] or (Value1,value2,....)) use the function add multiple values for 1-D at the end of the list."
   ]
  },
  {
   "cell_type": "code",
   "execution_count": 30,
   "id": "d1650896-706e-47d0-9b52-f14e13d6898f",
   "metadata": {},
   "outputs": [
    {
     "name": "stdout",
     "output_type": "stream",
     "text": [
      "Before inserting the value\n",
      "[ 10  20  50  70 100] <class 'numpy.ndarray'>\n"
     ]
    }
   ],
   "source": [
    "# numpy.insert(ndarrayobj,index,Value) use the function add a value at particular index for 1-D array list.\n",
    "import numpy as np\n",
    "a=np.array([10,20,50,70,100])\n",
    "print(\"Before inserting the value\")\n",
    "print(a,type(a))"
   ]
  },
  {
   "cell_type": "code",
   "execution_count": 31,
   "id": "5d05b821-4835-4a6f-a9a3-1ab8e6dbf503",
   "metadata": {},
   "outputs": [
    {
     "name": "stdout",
     "output_type": "stream",
     "text": [
      "after inserting the value\n",
      "[  5  10  20  50  70 100] <class 'numpy.ndarray'>\n"
     ]
    }
   ],
   "source": [
    "print(\"after inserting the value\")\n",
    "a=np.insert(a,0,5)  #at 0th index we insert value 5\n",
    "print(a,type(a))"
   ]
  },
  {
   "cell_type": "code",
   "execution_count": 32,
   "id": "dacaca1c-a6c3-4e57-b155-e8ebae2af374",
   "metadata": {},
   "outputs": [
    {
     "name": "stdout",
     "output_type": "stream",
     "text": [
      "after inserting the value\n",
      "[  5  10  20  50  70  99 100] <class 'numpy.ndarray'>\n"
     ]
    }
   ],
   "source": [
    "print(\"after inserting the value\")\n",
    "a=np.insert(a,-1,99)  #at 0th index we insert value 5\n",
    "print(a,type(a))"
   ]
  },
  {
   "cell_type": "code",
   "execution_count": 39,
   "id": "38175c7d-0b76-457b-bde8-9f590d9b01e8",
   "metadata": {},
   "outputs": [
    {
     "name": "stdout",
     "output_type": "stream",
     "text": [
      "after inserting the value\n",
      "[  1   2   3  30  40   1   2   3   5  10  20  30  40  50  70  99 100] <class 'numpy.ndarray'>\n"
     ]
    }
   ],
   "source": [
    "print(\"after inserting the value\")\n",
    "a=np.insert(a,3,(30,40))  #at 0th index we insert value 5\n",
    "print(a,type(a))"
   ]
  },
  {
   "cell_type": "code",
   "execution_count": 42,
   "id": "a2354902-0472-4c20-929f-d7ab0c9b9571",
   "metadata": {},
   "outputs": [
    {
     "name": "stdout",
     "output_type": "stream",
     "text": [
      "Before appending the value\n",
      "[[ 10  20]\n",
      " [ 50  70]\n",
      " [100  22]]\n"
     ]
    }
   ],
   "source": [
    "# numpy.insert(ndarrayobj,index,Value,axis=0 or 1) use the function add a value at particular index for 2-D array list.\n",
    "import numpy as np\n",
    "a=np.array([10,20,50,70,100,22])\n",
    "print(\"Before appending the value\")\n",
    "a.shape=(3,2)\n",
    "print(a)"
   ]
  },
  {
   "cell_type": "code",
   "execution_count": 80,
   "id": "8563a352-1cc4-4960-84d4-bf42fa75ba7a",
   "metadata": {},
   "outputs": [
    {
     "name": "stdout",
     "output_type": "stream",
     "text": [
      "[ 10  20  30  50  70 100  90 110  30  55]\n"
     ]
    }
   ],
   "source": [
    "a=np.insert(a,[2,5],[30,90])\n",
    "print(a)"
   ]
  },
  {
   "cell_type": "code",
   "execution_count": 43,
   "id": "80c7f018-3622-492e-9bb9-099026c29543",
   "metadata": {},
   "outputs": [
    {
     "name": "stdout",
     "output_type": "stream",
     "text": [
      "after inserting the value t 2D array\n",
      "[[  1   2]\n",
      " [ 10  20]\n",
      " [ 50  70]\n",
      " [100  22]]\n"
     ]
    }
   ],
   "source": [
    "print(\"after inserting the value to the 2D array Row wise\")\n",
    "a=np.insert(a,0,[[1,2]],axis=0)\n",
    "print(a)"
   ]
  },
  {
   "cell_type": "code",
   "execution_count": 51,
   "id": "42392333-121c-4915-8eff-0d433687feb7",
   "metadata": {},
   "outputs": [
    {
     "name": "stdout",
     "output_type": "stream",
     "text": [
      "after inserting the value to the 2D array column wise\n",
      "[[ 1  2]\n",
      " [10 11]\n",
      " [ 3  4]\n",
      " [ 5  6]]\n"
     ]
    }
   ],
   "source": [
    "print(\"after inserting the value to the 2D array column wise\")\n",
    "a=np.array([1,2,3,4,5,6]).reshape(3,2)\n",
    "a=np.insert(a,1,[[10,11]],axis=0)\n",
    "print(a)"
   ]
  },
  {
   "cell_type": "code",
   "execution_count": 53,
   "id": "fe3cb5b3-bc94-47c9-bbee-834807ed892e",
   "metadata": {},
   "outputs": [
    {
     "name": "stdout",
     "output_type": "stream",
     "text": [
      "[[  1   2]\n",
      " [ 99 100]\n",
      " [ 10  11]\n",
      " [  3   4]\n",
      " [ 99 100]\n",
      " [  5   6]]\n"
     ]
    }
   ],
   "source": [
    "a=np.insert(a,-1,[[99,100]],axis=0)\n",
    "print(a)"
   ]
  },
  {
   "cell_type": "code",
   "execution_count": 54,
   "id": "2143f0e3-18c3-4562-a1fb-aec885d71503",
   "metadata": {},
   "outputs": [
    {
     "name": "stdout",
     "output_type": "stream",
     "text": [
      "[[  1   2]\n",
      " [ 99 100]\n",
      " [ 10  11]\n",
      " [  3   4]\n",
      " [ 99 100]\n",
      " [  5   6]]\n"
     ]
    }
   ],
   "source": [
    "print(a)"
   ]
  },
  {
   "cell_type": "code",
   "execution_count": 61,
   "id": "d4584824-e4d3-4cfb-87af-3ec2e2274850",
   "metadata": {},
   "outputs": [
    {
     "name": "stdout",
     "output_type": "stream",
     "text": [
      "[[ 1 99  2]\n",
      " [ 3 88  4]\n",
      " [ 5 77  6]]\n"
     ]
    }
   ],
   "source": [
    "a=np.array([1,2,3,4,5,6]).reshape(3,2)\n",
    "a=np.insert(a,1,[[99,88,77]],axis=1)\n",
    "print(a)"
   ]
  },
  {
   "cell_type": "code",
   "execution_count": 62,
   "id": "e7492346-e740-4960-bee0-4d98b69f1e0e",
   "metadata": {},
   "outputs": [
    {
     "name": "stdout",
     "output_type": "stream",
     "text": [
      "[[ 1 99 50  2]\n",
      " [ 3 88 60  4]\n",
      " [ 5 77 70  6]]\n"
     ]
    }
   ],
   "source": [
    "a=np.insert(a,-1,[[50,60,70]],axis=1)\n",
    "print(a)"
   ]
  },
  {
   "cell_type": "code",
   "execution_count": 63,
   "id": "7a060223-2079-4849-92c9-5fa6de42dd97",
   "metadata": {},
   "outputs": [
    {
     "name": "stdout",
     "output_type": "stream",
     "text": [
      "[[ 1 99 50  2]\n",
      " [ 3 88 60  4]\n",
      " [15 25 35 45]\n",
      " [ 5 77 70  6]]\n"
     ]
    }
   ],
   "source": [
    "a=np.insert(a,2,[[15,25,35,45]],axis=0)\n",
    "print(a)"
   ]
  },
  {
   "cell_type": "code",
   "execution_count": 65,
   "id": "e9c0eb0e-6a6a-489f-ac09-b50bb456034e",
   "metadata": {},
   "outputs": [
    {
     "name": "stdout",
     "output_type": "stream",
     "text": [
      "[[ 1 99 50  2]\n",
      " [ 3 88 60  4]\n",
      " [ 9  8  7  6]\n",
      " [15 25 35 45]\n",
      " [ 5 77 70  6]]\n"
     ]
    }
   ],
   "source": [
    "a=np.insert(a,2,[[9,8,7,6]],axis=0)\n",
    "print(a)"
   ]
  },
  {
   "cell_type": "code",
   "execution_count": null,
   "id": "522188ac-7d2c-4d3e-a4a7-1f0cd744db26",
   "metadata": {},
   "outputs": [],
   "source": [
    "# Comes to append(),insert(),delete() ----- axis=1(column),axis=0(rows)\n",
    "# numpy.delete(ndarrayobj,indexvalue) use the function delete a value based on index for 1-D at the end of the list."
   ]
  },
  {
   "cell_type": "code",
   "execution_count": 66,
   "id": "b3ba1067-e42e-46ff-a7a3-c4b52e33ff3e",
   "metadata": {},
   "outputs": [
    {
     "name": "stdout",
     "output_type": "stream",
     "text": [
      "Before appending the value\n",
      "[ 10  20  50  70 100 110] <class 'numpy.ndarray'>\n"
     ]
    }
   ],
   "source": [
    "import numpy as np\n",
    "a=np.array([10,20,50,70,100,110])\n",
    "print(\"Before appending the value\")\n",
    "print(a,type(a))"
   ]
  },
  {
   "cell_type": "code",
   "execution_count": 69,
   "id": "e136b49a-fccf-4ec2-bbd2-6699a6465d89",
   "metadata": {},
   "outputs": [
    {
     "name": "stdout",
     "output_type": "stream",
     "text": [
      "[ 20  50  70 100 110]\n"
     ]
    }
   ],
   "source": [
    "a=np.delete(a,0)\n",
    "print(a)"
   ]
  },
  {
   "cell_type": "code",
   "execution_count": 70,
   "id": "2b24828a-169c-456b-b8a7-c7df3ac5779e",
   "metadata": {},
   "outputs": [
    {
     "name": "stdout",
     "output_type": "stream",
     "text": [
      "[ 20  50  70 110]\n"
     ]
    }
   ],
   "source": [
    "a=np.delete(a,3)\n",
    "print(a)"
   ]
  },
  {
   "cell_type": "code",
   "execution_count": 71,
   "id": "9d4b6329-804a-45cb-84de-14f2b259dd38",
   "metadata": {},
   "outputs": [
    {
     "name": "stdout",
     "output_type": "stream",
     "text": [
      "[ 20  50 110]\n"
     ]
    }
   ],
   "source": [
    "a=np.delete(a,-2)\n",
    "print(a)"
   ]
  },
  {
   "cell_type": "code",
   "execution_count": 75,
   "id": "038fbd71-8ea7-44b7-bd2f-66ede36d1250",
   "metadata": {},
   "outputs": [
    {
     "name": "stdout",
     "output_type": "stream",
     "text": [
      "Before appending the value\n",
      "[[ 10  20  50  70]\n",
      " [100 110  30  55]\n",
      " [ 99   0  45  12]] <class 'numpy.ndarray'>\n"
     ]
    }
   ],
   "source": [
    "import numpy as np\n",
    "a=np.array([10,20,50,70,100,110,30,55,99,0,45,12]).reshape(3,4)\n",
    "print(\"Before appending the value\")\n",
    "print(a,type(a))"
   ]
  },
  {
   "cell_type": "code",
   "execution_count": 77,
   "id": "517ef2d1-ddc4-40b5-9630-91dc1e23d27f",
   "metadata": {},
   "outputs": [
    {
     "name": "stdout",
     "output_type": "stream",
     "text": [
      "[[ 10  20  50  70]\n",
      " [100 110  30  55]]\n"
     ]
    }
   ],
   "source": [
    "a=np.delete(a,2,axis=0)\n",
    "print(a)"
   ]
  },
  {
   "cell_type": "code",
   "execution_count": 79,
   "id": "07ed441c-9b97-445a-933c-3a6475ed50b9",
   "metadata": {},
   "outputs": [
    {
     "name": "stdout",
     "output_type": "stream",
     "text": [
      "[[ 10  50  70]\n",
      " [100  30  55]]\n"
     ]
    }
   ],
   "source": [
    "print(np.delete(a,1,axis=1))"
   ]
  },
  {
   "cell_type": "code",
   "execution_count": null,
   "id": "04eaad3c-f0ec-416c-9a99-917ccf51538a",
   "metadata": {},
   "outputs": [],
   "source": []
  }
 ],
 "metadata": {
  "kernelspec": {
   "display_name": "Python 3 (ipykernel)",
   "language": "python",
   "name": "python3"
  },
  "language_info": {
   "codemirror_mode": {
    "name": "ipython",
    "version": 3
   },
   "file_extension": ".py",
   "mimetype": "text/x-python",
   "name": "python",
   "nbconvert_exporter": "python",
   "pygments_lexer": "ipython3",
   "version": "3.12.4"
  }
 },
 "nbformat": 4,
 "nbformat_minor": 5
}
